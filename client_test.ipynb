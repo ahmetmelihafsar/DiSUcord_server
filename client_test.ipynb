{
 "cells": [
  {
   "cell_type": "code",
   "execution_count": 1,
   "metadata": {},
   "outputs": [],
   "source": [
    "import socket\n",
    "import threading\n"
   ]
  },
  {
   "cell_type": "code",
   "execution_count": 3,
   "metadata": {},
   "outputs": [],
   "source": [
    "class DiSUcordClient:\n",
    "    def __init__(self, host, port, username):\n",
    "        self.client_socket = socket.socket(socket.AF_INET, socket.SOCK_STREAM)\n",
    "        self.host = host\n",
    "        self.port = port\n",
    "        self.username = username\n",
    "\n",
    "    def connect(self):\n",
    "        try:\n",
    "            self.client_socket.connect((self.host, self.port))\n",
    "            self.client_socket.send(f\"SETNAME {self.username}\".encode('utf-8'))\n",
    "            threading.Thread(target=self.receive_messages, daemon=True).start()\n",
    "        except Exception as e:\n",
    "            print(f\"Failed to connect to the server: {e}\")\n",
    "\n",
    "    def receive_messages(self):\n",
    "        while True:\n",
    "            try:\n",
    "                message = self.client_socket.recv(1024).decode('utf-8')\n",
    "                print(message)\n",
    "            except Exception as e:\n",
    "                print(f\"Error receiving message: {e}\")\n",
    "                self.client_socket.close()\n",
    "                break\n",
    "\n",
    "    def send_message(self, message):\n",
    "        try:\n",
    "            self.client_socket.send(message.encode('utf-8'))\n",
    "        except Exception as e:\n",
    "            print(f\"Error sending message: {e}\")\n",
    "\n",
    "    def close_connection(self):\n",
    "        self.client_socket.close()\n"
   ]
  },
  {
   "cell_type": "code",
   "execution_count": 10,
   "metadata": {},
   "outputs": [
    {
     "name": "stdout",
     "output_type": "stream",
     "text": [
      "Connected successfully.\n"
     ]
    }
   ],
   "source": [
    "client1 = DiSUcordClient('127.0.0.1', 8080, 'Alice')\n",
    "client1.connect()\n"
   ]
  },
  {
   "cell_type": "code",
   "execution_count": 11,
   "metadata": {},
   "outputs": [
    {
     "name": "stdout",
     "output_type": "stream",
     "text": [
      "Subscribed to IF 100\n"
     ]
    }
   ],
   "source": [
    "client1.send_message(\"SUBSCRIBE IF 100\")\n"
   ]
  },
  {
   "cell_type": "code",
   "execution_count": 8,
   "metadata": {},
   "outputs": [],
   "source": [
    "client1.send_message(\"MESSAGE IF 100 Hello, this is Alice!\")\n"
   ]
  },
  {
   "cell_type": "code",
   "execution_count": 12,
   "metadata": {},
   "outputs": [
    {
     "name": "stdout",
     "output_type": "stream",
     "text": [
      "Error receiving message: [WinError 10053] Kurulan bir bağlantı, ana makinenizdeki yazılım tarafından iptal edildi\n"
     ]
    }
   ],
   "source": [
    "# client1.send_message(\"UNSUBSCRIBE IF 100\")\n",
    "client1.close_connection()\n"
   ]
  }
 ],
 "metadata": {
  "kernelspec": {
   "display_name": "Python 3",
   "language": "python",
   "name": "python3"
  },
  "language_info": {
   "codemirror_mode": {
    "name": "ipython",
    "version": 3
   },
   "file_extension": ".py",
   "mimetype": "text/x-python",
   "name": "python",
   "nbconvert_exporter": "python",
   "pygments_lexer": "ipython3",
   "version": "3.11.2"
  }
 },
 "nbformat": 4,
 "nbformat_minor": 2
}
